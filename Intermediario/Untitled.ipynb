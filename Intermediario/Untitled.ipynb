{
 "cells": [
  {
   "cell_type": "code",
   "execution_count": 2,
   "metadata": {},
   "outputs": [
    {
     "name": "stdout",
     "output_type": "stream",
     "text": [
      "1 - Abrir arquivo \n",
      "2 - Ler arquivo \n",
      "3 - Fechar programa\n",
      "Digite a opção: 2\n",
      "\n",
      "Vc deve abrir um arquivo antes de tentar ler!\n",
      "\n",
      "1 - Abrir arquivo \n",
      "2 - Ler arquivo \n",
      "3 - Fechar programa\n",
      "Digite a opção: 3\n"
     ]
    }
   ],
   "source": [
    "def abreArquivo():\n",
    "\tnome = input(\"\\nDigitar nome do arquivo: \")\n",
    "\tarquivo = open(nome) #por padrão é 'r'\n",
    "\treturn arquivo\n",
    "\n",
    "def lerArquivo(arquivo):\n",
    "\tlinhas = arquivo.readlines()\n",
    "\n",
    "\tfor linha in linhas:\n",
    "\t\tprint (linha.strip()) #strip tira espaços em branco do começo e final\n",
    "\n",
    "esc = 0\n",
    "\n",
    "while esc != 3:\n",
    "        print(\"1 - Abrir arquivo \\n2 - Ler arquivo \\n3 - Fechar programa\")\n",
    "        esc = int(input(\"Digite a opção: \"))\n",
    "    \n",
    "        if esc == 1:\n",
    "            arquivo = abreArquivo()\n",
    "        elif esc ==2:\n",
    "        \ttry:\n",
    "        \t\tlerArquivo(arquivo)\n",
    "        \texcept:\n",
    "        \t\t print(\"\\nVc deve abrir um arquivo antes de tentar ler!\\n\")\n",
    "\n"
   ]
  }
 ],
 "metadata": {
  "kernelspec": {
   "display_name": "Python 3",
   "language": "python",
   "name": "python3"
  },
  "language_info": {
   "codemirror_mode": {
    "name": "ipython",
    "version": 3
   },
   "file_extension": ".py",
   "mimetype": "text/x-python",
   "name": "python",
   "nbconvert_exporter": "python",
   "pygments_lexer": "ipython3",
   "version": "3.7.3"
  }
 },
 "nbformat": 4,
 "nbformat_minor": 2
}
